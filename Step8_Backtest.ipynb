{
 "cells": [
  {
   "cell_type": "code",
   "execution_count": 1,
   "id": "5b4bcb0d",
   "metadata": {},
   "outputs": [],
   "source": [
    "from pathlib import Path\n",
    "from time import time\n",
    "import datetime\n",
    "\n",
    "import numpy as np\n",
    "import pandas as pd\n",
    "\n",
    "from scipy.stats import spearmanr\n",
    "\n",
    "import matplotlib.pyplot as plt\n",
    "from matplotlib.ticker import FuncFormatter\n",
    "import seaborn as sns"
   ]
  },
  {
   "cell_type": "code",
   "execution_count": 2,
   "id": "8455d756",
   "metadata": {},
   "outputs": [],
   "source": [
    "# Global Settings\n",
    "\n",
    "# Directories\n",
    "model_dataDir = 'DATA/MODELDATA/'\n",
    "\n",
    "# Time\n",
    "START = 2020\n",
    "END = 2022\n",
    "\n",
    "\n",
    "# Helpers\n",
    "sns.set_style('whitegrid')\n",
    "np.random.seed(42)\n",
    "idx = pd.IndexSlice\n"
   ]
  },
  {
   "cell_type": "code",
   "execution_count": 7,
   "id": "021c08f5",
   "metadata": {},
   "outputs": [
    {
     "ename": "SyntaxError",
     "evalue": "can't assign to function call (3089280832.py, line 21)",
     "output_type": "error",
     "traceback": [
      "\u001b[0;36m  File \u001b[0;32m\"/tmp/ipykernel_57672/3089280832.py\"\u001b[0;36m, line \u001b[0;32m21\u001b[0m\n\u001b[0;31m    predictions.index.get_level_values('Dates') = pd.to_datetime(predictions.index.get_level_values('Dates'))\u001b[0m\n\u001b[0m    ^\u001b[0m\n\u001b[0;31mSyntaxError\u001b[0m\u001b[0;31m:\u001b[0m can't assign to function call\n"
     ]
    }
   ],
   "source": [
    "# Helper Functions\n",
    "def get_trade_prices(start, stop):\n",
    "    model_mdf = pd.read_csv(model_dataDir + 'ModelData.csv')\n",
    "    model_mdf.rename(columns={'Unnamed: 0': 'Dates'}, inplace=True)\n",
    "    model_mdf['Dates'] = pd.to_datetime(model_mdf['Dates'])\n",
    "    model_mdf.set_index(['Dates', 'Coin'], inplace=True)\n",
    "    #model_mdf = model_mdf.loc[:,'Open']\n",
    "    #model_mdf = model_mdf.loc[idx[tickers, str(START):str(END)], 'Open']\n",
    "    prices = model_mdf.unstack('Coin').sort_index().shift(-1).tz_localize('UTC')\n",
    "    \n",
    "    return prices\n",
    "\n",
    "\n",
    "def get_predictions(predictions, prices):\n",
    "\n",
    "    prices = prices.loc[:,'Open':'High']\n",
    "    best_alpha = predictions.groupby('alpha').apply(lambda x: spearmanr(x.actuals, x.predicted)[0]).idxmax()\n",
    "    predictions = predictions[predictions.alpha == best_alpha]\n",
    "    predictions.index.names = ['Coin', 'Dates']\n",
    "    tickers = predictions.index.get_level_values('Coin').unique()\n",
    "    \n",
    "    start = predictions.index.get_level_values('Dates').min().strftime('%Y-%m-%d')\n",
    "    stop = (predictions.index.get_level_values('Dates').max() + pd.DateOffset(1)).strftime('%Y-%m-%d')\n",
    "    prices = prices.sort_index().loc[idx[tickers, START:END], :]\n",
    "    predictions = predictions.loc[predictions.alpha == best_alpha, ['predicted']]\n",
    "    \n",
    "    return predictions.join(prices, how='right')"
   ]
  },
  {
   "cell_type": "code",
   "execution_count": 6,
   "id": "8feb4414",
   "metadata": {},
   "outputs": [
    {
     "ename": "AttributeError",
     "evalue": "'str' object has no attribute 'strftime'",
     "output_type": "error",
     "traceback": [
      "\u001b[0;31m---------------------------------------------------------------------------\u001b[0m",
      "\u001b[0;31mAttributeError\u001b[0m                            Traceback (most recent call last)",
      "\u001b[0;32m/tmp/ipykernel_57672/291318089.py\u001b[0m in \u001b[0;36m<module>\u001b[0;34m\u001b[0m\n\u001b[1;32m     14\u001b[0m \u001b[0;34m\u001b[0m\u001b[0m\n\u001b[1;32m     15\u001b[0m \u001b[0;31m# Backtest Prices and Predictions\u001b[0m\u001b[0;34m\u001b[0m\u001b[0;34m\u001b[0m\u001b[0;34m\u001b[0m\u001b[0m\n\u001b[0;32m---> 16\u001b[0;31m \u001b[0mdata\u001b[0m \u001b[0;34m=\u001b[0m \u001b[0mget_predictions\u001b[0m\u001b[0;34m(\u001b[0m\u001b[0mridge_predictions\u001b[0m\u001b[0;34m,\u001b[0m \u001b[0mtrade_prices\u001b[0m\u001b[0;34m)\u001b[0m\u001b[0;34m\u001b[0m\u001b[0;34m\u001b[0m\u001b[0m\n\u001b[0m",
      "\u001b[0;32m/tmp/ipykernel_57672/2739304318.py\u001b[0m in \u001b[0;36mget_predictions\u001b[0;34m(predictions, prices)\u001b[0m\n\u001b[1;32m     19\u001b[0m     \u001b[0mpredictions\u001b[0m\u001b[0;34m.\u001b[0m\u001b[0mindex\u001b[0m\u001b[0;34m.\u001b[0m\u001b[0mnames\u001b[0m \u001b[0;34m=\u001b[0m \u001b[0;34m[\u001b[0m\u001b[0;34m'Coin'\u001b[0m\u001b[0;34m,\u001b[0m \u001b[0;34m'Dates'\u001b[0m\u001b[0;34m]\u001b[0m\u001b[0;34m\u001b[0m\u001b[0;34m\u001b[0m\u001b[0m\n\u001b[1;32m     20\u001b[0m     \u001b[0mtickers\u001b[0m \u001b[0;34m=\u001b[0m \u001b[0mpredictions\u001b[0m\u001b[0;34m.\u001b[0m\u001b[0mindex\u001b[0m\u001b[0;34m.\u001b[0m\u001b[0mget_level_values\u001b[0m\u001b[0;34m(\u001b[0m\u001b[0;34m'Coin'\u001b[0m\u001b[0;34m)\u001b[0m\u001b[0;34m.\u001b[0m\u001b[0munique\u001b[0m\u001b[0;34m(\u001b[0m\u001b[0;34m)\u001b[0m\u001b[0;34m\u001b[0m\u001b[0;34m\u001b[0m\u001b[0m\n\u001b[0;32m---> 21\u001b[0;31m     \u001b[0mstart\u001b[0m \u001b[0;34m=\u001b[0m \u001b[0mpredictions\u001b[0m\u001b[0;34m.\u001b[0m\u001b[0mindex\u001b[0m\u001b[0;34m.\u001b[0m\u001b[0mget_level_values\u001b[0m\u001b[0;34m(\u001b[0m\u001b[0;34m'Dates'\u001b[0m\u001b[0;34m)\u001b[0m\u001b[0;34m.\u001b[0m\u001b[0mmin\u001b[0m\u001b[0;34m(\u001b[0m\u001b[0;34m)\u001b[0m\u001b[0;34m.\u001b[0m\u001b[0mstrftime\u001b[0m\u001b[0;34m(\u001b[0m\u001b[0;34m'%Y-%m-%d'\u001b[0m\u001b[0;34m)\u001b[0m\u001b[0;34m\u001b[0m\u001b[0;34m\u001b[0m\u001b[0m\n\u001b[0m\u001b[1;32m     22\u001b[0m     \u001b[0mstop\u001b[0m \u001b[0;34m=\u001b[0m \u001b[0;34m(\u001b[0m\u001b[0mpredictions\u001b[0m\u001b[0;34m.\u001b[0m\u001b[0mindex\u001b[0m\u001b[0;34m.\u001b[0m\u001b[0mget_level_values\u001b[0m\u001b[0;34m(\u001b[0m\u001b[0;34m'Dates'\u001b[0m\u001b[0;34m)\u001b[0m\u001b[0;34m.\u001b[0m\u001b[0mmax\u001b[0m\u001b[0;34m(\u001b[0m\u001b[0;34m)\u001b[0m \u001b[0;34m+\u001b[0m \u001b[0mpd\u001b[0m\u001b[0;34m.\u001b[0m\u001b[0mDateOffset\u001b[0m\u001b[0;34m(\u001b[0m\u001b[0;36m1\u001b[0m\u001b[0;34m)\u001b[0m\u001b[0;34m)\u001b[0m\u001b[0;34m.\u001b[0m\u001b[0mstrftime\u001b[0m\u001b[0;34m(\u001b[0m\u001b[0;34m'%Y-%m-%d'\u001b[0m\u001b[0;34m)\u001b[0m\u001b[0;34m\u001b[0m\u001b[0;34m\u001b[0m\u001b[0m\n\u001b[1;32m     23\u001b[0m     \u001b[0midx\u001b[0m \u001b[0;34m=\u001b[0m \u001b[0mpd\u001b[0m\u001b[0;34m.\u001b[0m\u001b[0mIndexSlice\u001b[0m\u001b[0;34m\u001b[0m\u001b[0;34m\u001b[0m\u001b[0m\n",
      "\u001b[0;31mAttributeError\u001b[0m: 'str' object has no attribute 'strftime'"
     ]
    }
   ],
   "source": [
    "# Import data\n",
    "\n",
    "# Prices\n",
    "trade_prices = get_trade_prices(2020, 2022)\n",
    "\n",
    "# Benchmark\n",
    "trade_prices = trade_prices.loc[: , 'Open']\n",
    "btc_bench = trade_prices.bitcoin.pct_change()\n",
    "\n",
    "# Predictions\n",
    "lr_predictions = pd.read_hdf(f'{model_dataDir}lr_model_predictions.h5', 'lr/predictions')\n",
    "ridge_predictions = pd.read_hdf(f'{model_dataDir}Ridge_Predictions.h5', 'ridge/predictions')\n",
    "lasso_predictions = pd.read_hdf(f'{model_dataDir}Lasso_Predictions.h5', 'lasso/predictions')\n",
    "\n",
    "# Backtest Prices and Predictions\n",
    "data = get_predictions(ridge_predictions, trade_prices)\n"
   ]
  },
  {
   "cell_type": "code",
   "execution_count": null,
   "id": "6d75299e",
   "metadata": {},
   "outputs": [],
   "source": [
    "data.info()"
   ]
  },
  {
   "cell_type": "code",
   "execution_count": null,
   "id": "8067173c",
   "metadata": {},
   "outputs": [],
   "source": [
    "data.head()"
   ]
  },
  {
   "cell_type": "code",
   "execution_count": null,
   "id": "2b3849f5",
   "metadata": {},
   "outputs": [],
   "source": [
    "btc_bench.tail()"
   ]
  },
  {
   "cell_type": "code",
   "execution_count": null,
   "id": "009e7993",
   "metadata": {},
   "outputs": [],
   "source": [
    "trade_prices.head()"
   ]
  },
  {
   "cell_type": "code",
   "execution_count": null,
   "id": "2edf0488",
   "metadata": {},
   "outputs": [],
   "source": [
    "ridge_predictions.info()"
   ]
  },
  {
   "cell_type": "code",
   "execution_count": null,
   "id": "ad9a98c8",
   "metadata": {},
   "outputs": [],
   "source": [
    "# Vectorized backtest"
   ]
  },
  {
   "cell_type": "code",
   "execution_count": null,
   "id": "bada8779",
   "metadata": {},
   "outputs": [],
   "source": [
    "# Event driven backtest with Backtestester"
   ]
  }
 ],
 "metadata": {
  "kernelspec": {
   "display_name": "Python 3 (ipykernel)",
   "language": "python",
   "name": "python3"
  },
  "language_info": {
   "codemirror_mode": {
    "name": "ipython",
    "version": 3
   },
   "file_extension": ".py",
   "mimetype": "text/x-python",
   "name": "python",
   "nbconvert_exporter": "python",
   "pygments_lexer": "ipython3",
   "version": "3.7.11"
  }
 },
 "nbformat": 4,
 "nbformat_minor": 5
}
