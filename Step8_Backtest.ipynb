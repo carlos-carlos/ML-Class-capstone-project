{
 "cells": [
  {
   "cell_type": "code",
   "execution_count": 12,
   "id": "5b4bcb0d",
   "metadata": {},
   "outputs": [],
   "source": [
    "from pathlib import Path\n",
    "from time import time\n",
    "import datetime\n",
    "\n",
    "import numpy as np\n",
    "import pandas as pd\n",
    "\n",
    "from scipy.stats import spearmanr\n",
    "\n",
    "import matplotlib.pyplot as plt\n",
    "from matplotlib.ticker import FuncFormatter\n",
    "import seaborn as sns"
   ]
  },
  {
   "cell_type": "code",
   "execution_count": 13,
   "id": "8455d756",
   "metadata": {},
   "outputs": [],
   "source": [
    "# Global Settings\n",
    "\n",
    "# Directories\n",
    "model_dataDir = 'DATA/MODELDATA/'\n",
    "bench_dataDir = 'DATA/COINHISTDATA/'\n",
    "\n",
    "\n",
    "# Time\n",
    "START = 2020\n",
    "END = 2022\n",
    "\n",
    "\n",
    "# Helpers\n",
    "sns.set_style('whitegrid')\n",
    "np.random.seed(42)\n",
    "idx = pd.IndexSlice\n"
   ]
  },
  {
   "cell_type": "code",
   "execution_count": 14,
   "id": "21510ad2",
   "metadata": {},
   "outputs": [],
   "source": [
    "# Import Data\n",
    "\n",
    "# Predictions\n",
    "lr_predictions = pd.read_hdf(f'{model_dataDir}lr_model_predictions.h5', 'lr/predictions')\n",
    "ridge_predictions = pd.read_hdf(f'{model_dataDir}Ridge_Predictions.h5', 'ridge/predictions')\n",
    "lasso_predictions = pd.read_hdf(f'{model_dataDir}Lasso_Predictions.h5', 'lasso/predictions')\n",
    "\n",
    "# Prices\n",
    "model_mdf = pd.read_csv(model_dataDir + 'ModelData.csv')\n",
    "model_mdf.rename(columns={'Unnamed: 0': 'Dates'}, inplace=True)\n",
    "model_mdf['Dates'] = pd.to_datetime(model_mdf['Dates'])\n",
    "model_mdf.set_index(['Dates', 'Coin'], inplace=True)\n",
    "prices = model_mdf.loc[:,'Open':'Close']\n",
    "\n",
    "# Benchmark\n",
    "bench = pd.read_csv(bench_dataDir + 'bitcoin.csv')\n",
    "bench.rename(columns={'Unnamed: 0': 'Dates'}, inplace=True)\n",
    "bench.set_index('Dates', inplace=True)\n",
    "bench = bench.loc[:, ['Open']]\n",
    "#bench = bench.Open\n",
    "bench = bench.pct_change()\n",
    "bstart = ridge_predictions.index.get_level_values('Dates').min().strftime('%Y-%m-%d')\n",
    "bstop = (ridge_predictions.index.get_level_values('Dates').max() + pd.DateOffset(1)).strftime('%Y-%m-%d')\n",
    "bench = bench[bstart:bstop]\n",
    "bench.rename(columns = {'Open':'Bench'}, inplace = True)"
   ]
  },
  {
   "cell_type": "code",
   "execution_count": 15,
   "id": "2cdb1f27",
   "metadata": {},
   "outputs": [],
   "source": [
    "#bench.info()"
   ]
  },
  {
   "cell_type": "code",
   "execution_count": 16,
   "id": "56afe0ff",
   "metadata": {},
   "outputs": [],
   "source": [
    "#bench.head()"
   ]
  },
  {
   "cell_type": "code",
   "execution_count": 21,
   "id": "8cde1a45",
   "metadata": {},
   "outputs": [
    {
     "name": "stdout",
     "output_type": "stream",
     "text": [
      "<class 'pandas.core.frame.DataFrame'>\n",
      "MultiIndex: 44104 entries, ('basic-attention-token', Timestamp('2019-01-01 00:00:00')) to ('zcash', Timestamp('2022-02-06 00:00:00'))\n",
      "Data columns (total 5 columns):\n",
      " #   Column     Non-Null Count  Dtype  \n",
      "---  ------     --------------  -----  \n",
      " 0   predicted  28392 non-null  float64\n",
      " 1   Open       44104 non-null  float64\n",
      " 2   High       44104 non-null  float64\n",
      " 3   Low        44104 non-null  float64\n",
      " 4   Close      44104 non-null  float64\n",
      "dtypes: float64(5)\n",
      "memory usage: 1.9+ MB\n",
      "None\n"
     ]
    }
   ],
   "source": [
    "def get_backtest_data(predictions, prices):\n",
    "    \"\"\"Combine regression model predictions\n",
    "        with  OHLCV data\"\"\"\n",
    "    \n",
    "    best_alpha = predictions.groupby('alpha').apply(lambda x: spearmanr(x.actuals, x.predicted)[0]).idxmax()\n",
    "    predictions = predictions[predictions.alpha == best_alpha]\n",
    "    predictions.index.names = ['Coin', 'Dates']\n",
    "    tickers = predictions.index.get_level_values('Coin').unique()\n",
    "    \n",
    "    \n",
    "    start = predictions.index.get_level_values('Dates').min().strftime('%Y-%m-%d')\n",
    "    stop = (predictions.index.get_level_values('Dates').max() + pd.DateOffset(1)).strftime('%Y-%m-%d')\n",
    "    idx = pd.IndexSlice\n",
    "    #prices = prices.sort_index().loc[idx[tickers, start:stop], :]\n",
    "    predictions = predictions.loc[predictions.alpha == best_alpha, ['predicted']]\n",
    "    \n",
    "    #print(predictions.head())\n",
    "    #print('-----------------')\n",
    "    #print(prices.head())\n",
    "    \n",
    "    return predictions.join(prices, how='right')\n",
    "\n",
    "\n",
    "data = get_backtest_data(lasso_predictions,prices)\n",
    "print(data.info())"
   ]
  },
  {
   "cell_type": "code",
   "execution_count": 22,
   "id": "818ab933",
   "metadata": {},
   "outputs": [
    {
     "data": {
      "text/html": [
       "<div>\n",
       "<style scoped>\n",
       "    .dataframe tbody tr th:only-of-type {\n",
       "        vertical-align: middle;\n",
       "    }\n",
       "\n",
       "    .dataframe tbody tr th {\n",
       "        vertical-align: top;\n",
       "    }\n",
       "\n",
       "    .dataframe thead th {\n",
       "        text-align: right;\n",
       "    }\n",
       "</style>\n",
       "<table border=\"1\" class=\"dataframe\">\n",
       "  <thead>\n",
       "    <tr style=\"text-align: right;\">\n",
       "      <th></th>\n",
       "      <th></th>\n",
       "      <th>predicted</th>\n",
       "      <th>Open</th>\n",
       "      <th>High</th>\n",
       "      <th>Low</th>\n",
       "      <th>Close</th>\n",
       "    </tr>\n",
       "    <tr>\n",
       "      <th>Coin</th>\n",
       "      <th>Dates</th>\n",
       "      <th></th>\n",
       "      <th></th>\n",
       "      <th></th>\n",
       "      <th></th>\n",
       "      <th></th>\n",
       "    </tr>\n",
       "  </thead>\n",
       "  <tbody>\n",
       "    <tr>\n",
       "      <th rowspan=\"5\" valign=\"top\">zcash</th>\n",
       "      <th>2022-02-02</th>\n",
       "      <td>NaN</td>\n",
       "      <td>100.509081</td>\n",
       "      <td>103.084153</td>\n",
       "      <td>98.243410</td>\n",
       "      <td>98.243410</td>\n",
       "    </tr>\n",
       "    <tr>\n",
       "      <th>2022-02-03</th>\n",
       "      <td>NaN</td>\n",
       "      <td>98.182877</td>\n",
       "      <td>100.833935</td>\n",
       "      <td>95.995052</td>\n",
       "      <td>100.833935</td>\n",
       "    </tr>\n",
       "    <tr>\n",
       "      <th>2022-02-04</th>\n",
       "      <td>NaN</td>\n",
       "      <td>99.948187</td>\n",
       "      <td>114.882213</td>\n",
       "      <td>99.948187</td>\n",
       "      <td>114.882213</td>\n",
       "    </tr>\n",
       "    <tr>\n",
       "      <th>2022-02-05</th>\n",
       "      <td>NaN</td>\n",
       "      <td>115.028496</td>\n",
       "      <td>122.081184</td>\n",
       "      <td>114.873152</td>\n",
       "      <td>121.223630</td>\n",
       "    </tr>\n",
       "    <tr>\n",
       "      <th>2022-02-06</th>\n",
       "      <td>NaN</td>\n",
       "      <td>124.280985</td>\n",
       "      <td>124.993579</td>\n",
       "      <td>121.797601</td>\n",
       "      <td>124.907266</td>\n",
       "    </tr>\n",
       "  </tbody>\n",
       "</table>\n",
       "</div>"
      ],
      "text/plain": [
       "                  predicted        Open        High         Low       Close\n",
       "Coin  Dates                                                                \n",
       "zcash 2022-02-02        NaN  100.509081  103.084153   98.243410   98.243410\n",
       "      2022-02-03        NaN   98.182877  100.833935   95.995052  100.833935\n",
       "      2022-02-04        NaN   99.948187  114.882213   99.948187  114.882213\n",
       "      2022-02-05        NaN  115.028496  122.081184  114.873152  121.223630\n",
       "      2022-02-06        NaN  124.280985  124.993579  121.797601  124.907266"
      ]
     },
     "execution_count": 22,
     "metadata": {},
     "output_type": "execute_result"
    }
   ],
   "source": [
    "#data = data.swaplevel()\n",
    "data.tail()"
   ]
  },
  {
   "cell_type": "code",
   "execution_count": null,
   "id": "c0c2228e",
   "metadata": {},
   "outputs": [],
   "source": [
    "# Daily returns for all the coins in the dataset for the target time period\n",
    "daily_returns = data.Open.unstack('Coin').sort_index().pct_change()\n",
    "daily_returns.info(verbose = False)"
   ]
  },
  {
   "cell_type": "code",
   "execution_count": null,
   "id": "1b07323e",
   "metadata": {},
   "outputs": [],
   "source": [
    "#daily_returns.head()"
   ]
  },
  {
   "cell_type": "code",
   "execution_count": null,
   "id": "f824d2f2",
   "metadata": {},
   "outputs": [],
   "source": [
    "# Compute forward returns\n",
    "fwd_returns = daily_returns.shift(-1)\n",
    "fwd_returns.head()"
   ]
  },
  {
   "cell_type": "code",
   "execution_count": null,
   "id": "11032169",
   "metadata": {},
   "outputs": [],
   "source": [
    "# Isolate the predictions\n",
    "predictions = data.predicted.unstack('Coin')\n",
    "predictions.info()"
   ]
  },
  {
   "cell_type": "code",
   "execution_count": null,
   "id": "593356c6",
   "metadata": {},
   "outputs": [],
   "source": [
    "#predictions.head(50)"
   ]
  },
  {
   "cell_type": "code",
   "execution_count": null,
   "id": "ad9a98c8",
   "metadata": {},
   "outputs": [],
   "source": [
    "# VECTORIZED BACKTEST\n",
    "\n",
    "# Set the number of long and short positions\n",
    "N_LONG = N_SHORT = 20\n",
    "\n",
    "# Get the trading signals from the model predictions\n",
    "long_signals = ((predictions\n",
    "                .where(predictions > 0)\n",
    "                .rank(axis=1, ascending=False) > N_LONG)\n",
    "                .astype(int))\n",
    "short_signals = ((predictions\n",
    "                  .where(predictions < 0)\n",
    "                  .rank(axis=1) > N_SHORT)\n",
    "                 .astype(int))\n",
    "\n",
    "\n",
    "# Compute the portfolio returns for the backtest\n",
    "long_returns = long_signals.mul(fwd_returns).mean(axis=1)\n",
    "short_returns = short_signals.mul(-fwd_returns).mean(axis=1)\n",
    "strategy = long_returns.add(short_returns).to_frame('Strategy')"
   ]
  },
  {
   "cell_type": "code",
   "execution_count": null,
   "id": "cc1d22b9",
   "metadata": {},
   "outputs": [],
   "source": [
    "#strategy.join(bench).head(100)"
   ]
  },
  {
   "cell_type": "code",
   "execution_count": null,
   "id": "1ab2fddf",
   "metadata": {},
   "outputs": [],
   "source": [
    "#bench.index.dtype"
   ]
  },
  {
   "cell_type": "code",
   "execution_count": null,
   "id": "7afc1ae1",
   "metadata": {},
   "outputs": [],
   "source": [
    "#bench.head(100)"
   ]
  },
  {
   "cell_type": "code",
   "execution_count": null,
   "id": "e16ace9f",
   "metadata": {},
   "outputs": [],
   "source": [
    "#strategy.index.dtype"
   ]
  },
  {
   "cell_type": "code",
   "execution_count": null,
   "id": "85d8cb24",
   "metadata": {},
   "outputs": [],
   "source": [
    "#strategy.head(100)"
   ]
  },
  {
   "cell_type": "code",
   "execution_count": null,
   "id": "0483a074",
   "metadata": {},
   "outputs": [],
   "source": [
    "# Results\n",
    "bench.index = pd.to_datetime(bench.index)\n",
    "fig, axes = plt.subplots(ncols=2, figsize=(14,5))\n",
    "strategy.join(bench).add(1).cumprod().sub(1).plot(ax=axes[0], title='Cumulative Return')\n",
    "sns.distplot(strategy.dropna(), ax=axes[1], hist=False, label='Strategy')\n",
    "sns.distplot(bench, ax=axes[1], hist=False, label='BTC')\n",
    "axes[1].set_title('Daily Standard Deviation')\n",
    "axes[0].yaxis.set_major_formatter(FuncFormatter(lambda y, _: '{:.0%}'.format(y))) \n",
    "axes[1].xaxis.set_major_formatter(FuncFormatter(lambda y, _: '{:.0%}'.format(y))) \n",
    "sns.despine()\n",
    "fig.tight_layout();"
   ]
  },
  {
   "cell_type": "code",
   "execution_count": null,
   "id": "bada8779",
   "metadata": {},
   "outputs": [],
   "source": [
    "# EVENT-DRIVEN BACKTEST with Backtestester"
   ]
  }
 ],
 "metadata": {
  "kernelspec": {
   "display_name": "Python 3 (ipykernel)",
   "language": "python",
   "name": "python3"
  },
  "language_info": {
   "codemirror_mode": {
    "name": "ipython",
    "version": 3
   },
   "file_extension": ".py",
   "mimetype": "text/x-python",
   "name": "python",
   "nbconvert_exporter": "python",
   "pygments_lexer": "ipython3",
   "version": "3.7.11"
  }
 },
 "nbformat": 4,
 "nbformat_minor": 5
}
