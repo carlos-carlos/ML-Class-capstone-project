{
 "cells": [
  {
   "cell_type": "code",
   "execution_count": 1,
   "id": "5b4bcb0d",
   "metadata": {},
   "outputs": [],
   "source": [
    "from pathlib import Path\n",
    "from time import time\n",
    "import datetime\n",
    "\n",
    "import numpy as np\n",
    "import pandas as pd\n",
    "\n",
    "from scipy.stats import spearmanr\n",
    "\n",
    "import matplotlib.pyplot as plt\n",
    "from matplotlib.ticker import FuncFormatter\n",
    "import seaborn as sns"
   ]
  },
  {
   "cell_type": "code",
   "execution_count": 2,
   "id": "8455d756",
   "metadata": {},
   "outputs": [],
   "source": [
    "# Global Settings\n",
    "\n",
    "# Directories\n",
    "model_dataDir = 'DATA/MODELDATA/'\n",
    "bench_dataDir = 'DATA/COINHISTDATA/'\n",
    "\n",
    "\n",
    "# Time\n",
    "START = 2020\n",
    "END = 2022\n",
    "\n",
    "\n",
    "# Helpers\n",
    "sns.set_style('whitegrid')\n",
    "np.random.seed(42)\n",
    "idx = pd.IndexSlice\n"
   ]
  },
  {
   "cell_type": "code",
   "execution_count": 3,
   "id": "8920431c",
   "metadata": {},
   "outputs": [],
   "source": [
    "# Import Data\n",
    "\n",
    "# Predictions\n",
    "lr_predictions = pd.read_hdf(f'{model_dataDir}lr_model_predictions.h5', 'lr/predictions')\n",
    "ridge_predictions = pd.read_hdf(f'{model_dataDir}Ridge_Predictions.h5', 'ridge/predictions')\n",
    "lasso_predictions = pd.read_hdf(f'{model_dataDir}Lasso_Predictions.h5', 'lasso/predictions')\n",
    "\n",
    "# Prices\n",
    "model_mdf = pd.read_csv(model_dataDir + 'ModelData.csv')\n",
    "model_mdf.rename(columns={'Unnamed: 0': 'Dates'}, inplace=True)\n",
    "model_mdf['Dates'] = pd.to_datetime(model_mdf['Dates'])\n",
    "model_mdf.set_index(['Dates', 'Coin'], inplace=True)\n",
    "prices = model_mdf.loc[:,'Open':'Close']\n",
    "\n",
    "# Benchmark\n",
    "bench = pd.read_csv(bench_dataDir + 'bitcoin.csv')\n",
    "bench.rename(columns={'Unnamed: 0': 'Dates'}, inplace=True)\n",
    "bench.set_index('Dates', inplace=True)\n",
    "bench = bench.Open\n",
    "bench = bench.pct_change()\n",
    "bstart = ridge_predictions.index.get_level_values('Dates').min().strftime('%Y-%m-%d')\n",
    "bstop = (ridge_predictions.index.get_level_values('Dates').max() + pd.DateOffset(1)).strftime('%Y-%m-%d')\n",
    "bench = bench[bstart:bstop]"
   ]
  },
  {
   "cell_type": "code",
   "execution_count": 4,
   "id": "29bb025b",
   "metadata": {},
   "outputs": [
    {
     "data": {
      "text/plain": [
       "Dates\n",
       "2022-01-10    0.005876\n",
       "2022-01-11   -0.001062\n",
       "2022-01-12    0.006762\n",
       "2022-01-13    0.024422\n",
       "2022-01-14   -0.022079\n",
       "Name: Open, dtype: float64"
      ]
     },
     "execution_count": 4,
     "metadata": {},
     "output_type": "execute_result"
    }
   ],
   "source": [
    "bench.tail()"
   ]
  },
  {
   "cell_type": "code",
   "execution_count": 5,
   "id": "690c5636",
   "metadata": {},
   "outputs": [
    {
     "data": {
      "text/html": [
       "<div>\n",
       "<style scoped>\n",
       "    .dataframe tbody tr th:only-of-type {\n",
       "        vertical-align: middle;\n",
       "    }\n",
       "\n",
       "    .dataframe tbody tr th {\n",
       "        vertical-align: top;\n",
       "    }\n",
       "\n",
       "    .dataframe thead th {\n",
       "        text-align: right;\n",
       "    }\n",
       "</style>\n",
       "<table border=\"1\" class=\"dataframe\">\n",
       "  <thead>\n",
       "    <tr style=\"text-align: right;\">\n",
       "      <th></th>\n",
       "      <th></th>\n",
       "      <th>actuals</th>\n",
       "      <th>predicted</th>\n",
       "      <th>alpha</th>\n",
       "    </tr>\n",
       "    <tr>\n",
       "      <th>Dates</th>\n",
       "      <th>Coin</th>\n",
       "      <th></th>\n",
       "      <th></th>\n",
       "      <th></th>\n",
       "    </tr>\n",
       "  </thead>\n",
       "  <tbody>\n",
       "    <tr>\n",
       "      <th>2022-01-08</th>\n",
       "      <th>algorand</th>\n",
       "      <td>-0.017524</td>\n",
       "      <td>-0.000269</td>\n",
       "      <td>0.0001</td>\n",
       "    </tr>\n",
       "    <tr>\n",
       "      <th>2022-01-09</th>\n",
       "      <th>algorand</th>\n",
       "      <td>0.020682</td>\n",
       "      <td>0.004376</td>\n",
       "      <td>0.0001</td>\n",
       "    </tr>\n",
       "    <tr>\n",
       "      <th>2022-01-10</th>\n",
       "      <th>algorand</th>\n",
       "      <td>0.025327</td>\n",
       "      <td>0.012404</td>\n",
       "      <td>0.0001</td>\n",
       "    </tr>\n",
       "    <tr>\n",
       "      <th>2022-01-11</th>\n",
       "      <th>algorand</th>\n",
       "      <td>-0.007643</td>\n",
       "      <td>0.007684</td>\n",
       "      <td>0.0001</td>\n",
       "    </tr>\n",
       "    <tr>\n",
       "      <th>2022-01-12</th>\n",
       "      <th>algorand</th>\n",
       "      <td>-0.044458</td>\n",
       "      <td>-0.003803</td>\n",
       "      <td>0.0001</td>\n",
       "    </tr>\n",
       "  </tbody>\n",
       "</table>\n",
       "</div>"
      ],
      "text/plain": [
       "                      actuals  predicted   alpha\n",
       "Dates      Coin                                 \n",
       "2022-01-08 algorand -0.017524  -0.000269  0.0001\n",
       "2022-01-09 algorand  0.020682   0.004376  0.0001\n",
       "2022-01-10 algorand  0.025327   0.012404  0.0001\n",
       "2022-01-11 algorand -0.007643   0.007684  0.0001\n",
       "2022-01-12 algorand -0.044458  -0.003803  0.0001"
      ]
     },
     "execution_count": 5,
     "metadata": {},
     "output_type": "execute_result"
    }
   ],
   "source": [
    "ridge_predictions.head()"
   ]
  },
  {
   "cell_type": "code",
   "execution_count": null,
   "id": "9131f097",
   "metadata": {},
   "outputs": [],
   "source": [
    "prices.head()"
   ]
  },
  {
   "cell_type": "code",
   "execution_count": null,
   "id": "5f5eb0ff",
   "metadata": {},
   "outputs": [],
   "source": [
    "bench.head()"
   ]
  },
  {
   "cell_type": "code",
   "execution_count": null,
   "id": "6110c974",
   "metadata": {},
   "outputs": [],
   "source": [
    "def get_backtest_data(predictions, prices):\n",
    "    \"\"\"Combine chapter 7 regression predictions\n",
    "        with  OHLCV data\"\"\"\n",
    "\n",
    "    \n",
    "    \n",
    "    best_alpha = predictions.groupby('alpha').apply(lambda x: spearmanr(x.actuals, x.predicted)[0]).idxmax()\n",
    "    predictions = predictions[predictions.alpha == best_alpha]\n",
    "    predictions.index.names = ['Dates', 'Coin']\n",
    "    tickers = predictions.index.get_level_values('Coin').unique()\n",
    "    \n",
    "    \n",
    "    start = predictions.index.get_level_values('Dates').min().strftime('%Y-%m-%d')\n",
    "    stop = (predictions.index.get_level_values('Dates').max() + pd.DateOffset(1)).strftime('%Y-%m-%d')\n",
    "    idx = pd.IndexSlice\n",
    "    #prices = prices.sort_index().loc[idx[tickers, start:stop], :]\n",
    "    predictions = predictions.loc[predictions.alpha == best_alpha, ['predicted']]\n",
    "    \n",
    "    print(predictions.head())\n",
    "    print('-----------------')\n",
    "    print(prices.head())\n",
    "    \n",
    "    return predictions.join(prices, how='right')\n",
    "\n",
    "\n",
    "data = get_backtest_data(ridge_predictions,prices)\n",
    "print(data.info())"
   ]
  },
  {
   "cell_type": "code",
   "execution_count": null,
   "id": "ced85219",
   "metadata": {},
   "outputs": [],
   "source": [
    "data.head()"
   ]
  },
  {
   "cell_type": "code",
   "execution_count": null,
   "id": "ca7b6282",
   "metadata": {},
   "outputs": [],
   "source": [
    "#data.swaplevel()"
   ]
  },
  {
   "cell_type": "code",
   "execution_count": null,
   "id": "5078779a",
   "metadata": {},
   "outputs": [],
   "source": [
    "data = data.swaplevel()\n",
    "data.head()"
   ]
  },
  {
   "cell_type": "code",
   "execution_count": null,
   "id": "b5087382",
   "metadata": {},
   "outputs": [],
   "source": []
  },
  {
   "cell_type": "code",
   "execution_count": null,
   "id": "ad9a98c8",
   "metadata": {},
   "outputs": [],
   "source": [
    "# Vectorized backtest"
   ]
  },
  {
   "cell_type": "code",
   "execution_count": null,
   "id": "bada8779",
   "metadata": {},
   "outputs": [],
   "source": [
    "# Event driven backtest with Backtestester"
   ]
  }
 ],
 "metadata": {
  "kernelspec": {
   "display_name": "Python 3 (ipykernel)",
   "language": "python",
   "name": "python3"
  },
  "language_info": {
   "codemirror_mode": {
    "name": "ipython",
    "version": 3
   },
   "file_extension": ".py",
   "mimetype": "text/x-python",
   "name": "python",
   "nbconvert_exporter": "python",
   "pygments_lexer": "ipython3",
   "version": "3.7.11"
  }
 },
 "nbformat": 4,
 "nbformat_minor": 5
}
