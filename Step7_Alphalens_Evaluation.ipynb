{
 "cells": [
  {
   "cell_type": "code",
   "execution_count": 2,
   "id": "c6228bb3",
   "metadata": {},
   "outputs": [],
   "source": [
    "from pathlib import Path\n",
    "import pandas as pd\n",
    "from alphalens.tears import create_summary_tear_sheet\n",
    "from alphalens.utils import get_clean_factor_and_forward_returns"
   ]
  },
  {
   "cell_type": "code",
   "execution_count": 3,
   "id": "b51260eb",
   "metadata": {},
   "outputs": [],
   "source": [
    "# GLOBAL SETTINGS\n",
    "\n",
    "# Directories\n",
    "model_dataDir = 'DATA/MODELDATA/'\n",
    "model_plot_dataDir = 'DATA/MODELRESULTS/'\n",
    "\n",
    "# Time\n",
    "START = 2020\n",
    "END = 2022\n",
    "\n",
    "\n",
    "\n",
    "#Helpers\n",
    "idx = pd.IndexSlice\n",
    "\n"
   ]
  },
  {
   "cell_type": "code",
   "execution_count": 4,
   "id": "57dc6732",
   "metadata": {},
   "outputs": [],
   "source": [
    "# Helper Functions\n",
    "def get_trade_prices(tickers, start, stop):\n",
    "    prices = model_mdf\n",
    "    prices = prices.loc[idx[tickers, str(start):str(stop)], 'Open']\n",
    "    return (prices\n",
    "            .unstack('Coin')\n",
    "            .sort_index()\n",
    "            .shift(-1)\n",
    "            .tz_localize('UTC'))\n",
    "\n",
    "def get_best_alpha(scores):\n",
    "    return scores.groupby('alpha').ic.mean().idxmax()\n",
    "\n",
    "\n",
    "def get_factor(predictions):\n",
    "    return (predictions.unstack('Coin')\n",
    "            .dropna(how='all')\n",
    "            .stack()\n",
    "            .tz_localize('UTC', level='Dates')\n",
    "            .sort_index())    "
   ]
  },
  {
   "cell_type": "code",
   "execution_count": 9,
   "id": "de798409",
   "metadata": {},
   "outputs": [],
   "source": [
    "# Load the Model Results Data\n",
    "lr_predictions = pd.read_hdf(f'{model_dataDir}lr_model_predictions.h5', 'lr/predictions')\n",
    "ridge_scores = pd.read_hdf(f'{model_dataDir}Ridge_Scores.h5', 'ridge/scores')\n",
    "ridge_predictions = pd.read_hdf(f'{model_dataDir}Ridge_Predictions.h5', 'ridge/predictions')\n",
    "lasso_scores = pd.read_hdf(f'{model_dataDir}Lasso_Scores.h5', 'lasso/scores')\n",
    "lasso_predictions = pd.read_hdf(f'{model_dataDir}Lasso_Predictions.h5', 'lasso/predictions')\n",
    "\n",
    "# Load the OHLV Price data\n",
    "model_mdf = pd.read_csv(model_dataDir + 'ModelData.csv')\n",
    "model_mdf.rename(columns={'Unnamed: 0': 'Dates'}, inplace=True)\n",
    "model_mdf['Dates'] = pd.to_datetime(model_mdf['Dates'])\n",
    "model_mdf.set_index(['Dates', 'Coin'], inplace=True)\n",
    "model_mdf = model_mdf.loc[:,'Open':'Volume']\n",
    "prices = model_mdf.unstack('Coin').sort_index().shift(-1).tz_localize('UTC')"
   ]
  },
  {
   "cell_type": "code",
   "execution_count": null,
   "id": "10db2c14",
   "metadata": {},
   "outputs": [],
   "source": []
  }
 ],
 "metadata": {
  "kernelspec": {
   "display_name": "Python 3 (ipykernel)",
   "language": "python",
   "name": "python3"
  },
  "language_info": {
   "codemirror_mode": {
    "name": "ipython",
    "version": 3
   },
   "file_extension": ".py",
   "mimetype": "text/x-python",
   "name": "python",
   "nbconvert_exporter": "python",
   "pygments_lexer": "ipython3",
   "version": "3.7.11"
  }
 },
 "nbformat": 4,
 "nbformat_minor": 5
}
