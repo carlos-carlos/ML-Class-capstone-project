{
 "cells": [
  {
   "cell_type": "code",
   "execution_count": 1,
   "id": "abd722c5",
   "metadata": {},
   "outputs": [],
   "source": [
    "from time import time\n",
    "from pathlib import Path\n",
    "import pandas as pd\n",
    "import numpy as np\n",
    "from scipy.stats import spearmanr\n",
    "\n",
    "from sklearn.metrics import mean_squared_error\n",
    "from sklearn.preprocessing import StandardScaler\n",
    "from sklearn.linear_model import LinearRegression, Ridge, Lasso\n",
    "from sklearn.pipeline import Pipeline\n",
    "\n",
    "import seaborn as sns\n",
    "import matplotlib.pyplot as plt\n",
    "from matplotlib.ticker import FuncFormatter\n"
   ]
  },
  {
   "cell_type": "code",
   "execution_count": 2,
   "id": "3433475e",
   "metadata": {},
   "outputs": [],
   "source": [
    "# GLOBAL SETTINGS\n",
    "\n",
    "# Data directories\n",
    "\n",
    "#coin_dataDir = 'DATA/TESTDIR/' # Debug dir for testing I/O logic and/or issues. It should be a clone of the above dir.\n",
    "model_dataDir = 'DATA/MODELDATA/'\n",
    "plot_dataDir = 'DATA/INITIAL_INSIGHTS/MOMENTUM_FACTORS/STATINFER/'\n",
    "model_plot_dataDir = 'DATA/MODELRESULTS/'\n",
    "\n",
    "# Time periods settings\n",
    "YEAR = 365\n",
    "\n",
    "# Helpers\n",
    "sns.set_style('darkgrid')\n",
    "idx = pd.IndexSlice\n",
    "\n",
    "# END GLOBAL SETTINGS"
   ]
  },
  {
   "cell_type": "code",
   "execution_count": 3,
   "id": "e3cfbb0f",
   "metadata": {},
   "outputs": [],
   "source": [
    "# HELPER FUNCTIONS\n",
    "\n",
    "# Prediction vs Actual Scatter Plot\n",
    "def plot_preds_scatter(df, ticker=None):\n",
    "    if ticker is not None:\n",
    "        idx = pd.IndexSlice\n",
    "        df = df.loc[idx[ticker, :], :]\n",
    "    j = sns.jointplot(x='predicted', y='actuals',\n",
    "                      robust=True, ci=None,\n",
    "                      line_kws={'lw': 1, 'color': 'k'},\n",
    "                      scatter_kws={'s': 1},\n",
    "                      data=df,\n",
    "                      kind='reg')\n",
    "    j.ax_joint.yaxis.set_major_formatter(\n",
    "        FuncFormatter(lambda y, _: '{:.1%}'.format(y)))\n",
    "    j.ax_joint.xaxis.set_major_formatter(\n",
    "        FuncFormatter(lambda x, _: '{:.1%}'.format(x)))\n",
    "    j.ax_joint.set_xlabel('Predicted')\n",
    "    j.ax_joint.set_ylabel('Actuals')\n",
    "\n",
    "# Daily Information Coefficient Distribution\n",
    "def plot_ic_distribution(df, ax=None):\n",
    "    if ax is not None:\n",
    "        sns.distplot(df.ic, ax=ax)\n",
    "    else:\n",
    "        ax = sns.distplot(df.ic)\n",
    "    mean, median = df.ic.mean(), df.ic.median()\n",
    "    ax.axvline(0, lw=1, ls='--', c='k')\n",
    "    ax.text(x=.05, y=.9,\n",
    "            s=f'Mean: {mean:8.2f}\\nMedian: {median:5.2f}',\n",
    "            horizontalalignment='left',\n",
    "            verticalalignment='center',\n",
    "            transform=ax.transAxes)\n",
    "    ax.set_xlabel('Information Coefficient')\n",
    "    sns.despine()\n",
    "    plt.tight_layout()\n",
    "\n",
    "# END HELPER FUNCTIONS"
   ]
  },
  {
   "cell_type": "code",
   "execution_count": 4,
   "id": "04ae8302",
   "metadata": {},
   "outputs": [],
   "source": [
    "# Read in MDF with features\n",
    "model_mdf = pd.read_csv(model_dataDir + 'ModelData.csv')\n",
    "model_mdf.rename(columns={'Unnamed: 0': 'Dates'}, inplace=True)\n",
    "model_mdf['Dates'] = pd.to_datetime(model_mdf['Dates'])\n",
    "model_mdf.set_index(['Dates', 'Coin'], inplace=True)\n",
    "\n",
    "# Filter out 60 and 90d columns\n",
    "# Reason: Due to the relativly small size of the dataset, all the NaN values leave me with just 3 months of usable data.\n",
    "# I could impute the NaNs but for such long time periods, I think this is too risky and could lead to false models\n",
    "ninety_day_filter = model_mdf.filter(like='90d')\n",
    "model_mdf = model_mdf.drop(ninety_day_filter.columns, axis=1)\n",
    "sixty_day_filter = model_mdf.filter(like='60d')\n",
    "model_mdf = model_mdf.drop(sixty_day_filter.columns, axis=1)\n",
    "\n",
    "# Impute missing entries in the remaining data (max 30d period seems reasonable)\n",
    "model_mdf = model_mdf.groupby('Coin').apply(lambda x: x.fillna(x.mean()))"
   ]
  },
  {
   "cell_type": "code",
   "execution_count": 5,
   "id": "a6f4363f",
   "metadata": {},
   "outputs": [],
   "source": [
    "# Drop NaNs, OHLCV columns and lag period columns\n",
    "data = model_mdf\n",
    "\n",
    "data = (model_mdf\n",
    "            .dropna()\n",
    "            .drop(['Open', 'Close', 'Low', 'High', 'Volume'], axis=1))\n",
    "\n",
    "data = data.drop([c for c in data.columns if 'lag' in c], axis=1)"
   ]
  },
  {
   "cell_type": "code",
   "execution_count": 6,
   "id": "42d108a2",
   "metadata": {},
   "outputs": [],
   "source": [
    "# Create X and Y values for the model\n",
    "y = data.filter(like='target')\n",
    "X = data.drop(y.columns, axis=1)"
   ]
  },
  {
   "cell_type": "code",
   "execution_count": 7,
   "id": "4cebdd68",
   "metadata": {},
   "outputs": [],
   "source": [
    "# This is a custom implementation of TimeSeriesSplit CV from sklearn for finance data.\n",
    "# It is taken from code developed by Stefen Jansen and Marcos Lopez de Prado.\n",
    "# It is meant to eliminate any spill over between several train/test pairs derived from the dataset.\n",
    "# Financial data is especially suseptible to such leakage and so a custom TimeSeries CV approach is necessary.\n",
    "# The class below creates several train/test split pairs from the dataset and spearates them using\n",
    "# purging, embargoing, and Combinatorial CV techniques.\n",
    "\n",
    "class MultipleTimeSeriesCV:\n",
    "    \"\"\"Generates tuples of train_idx, test_idx pairs\n",
    "    Assumes the MultiIndex contains levels 'symbol' and 'date'\n",
    "    purges overlapping outcomes\"\"\"\n",
    "\n",
    "    def __init__(self,\n",
    "                 n_splits=3,\n",
    "                 train_period_length=126,\n",
    "                 test_period_length=21,\n",
    "                 lookahead=None,\n",
    "                 shuffle=False):\n",
    "        self.n_splits = n_splits\n",
    "        self.lookahead = lookahead\n",
    "        self.test_length = test_period_length\n",
    "        self.train_length = train_period_length\n",
    "        self.shuffle = shuffle\n",
    "\n",
    "    def split(self, X, y=None, groups=None):\n",
    "        unique_dates = X.index.get_level_values('Dates').unique()\n",
    "        days = sorted(unique_dates, reverse=True)\n",
    "\n",
    "        split_idx = []\n",
    "        for i in range(self.n_splits):\n",
    "            test_end_idx = i * self.test_length\n",
    "            test_start_idx = test_end_idx + self.test_length\n",
    "            train_end_idx = test_start_idx + + self.lookahead - 1\n",
    "            train_start_idx = train_end_idx + self.train_length + self.lookahead - 1\n",
    "            split_idx.append([train_start_idx, train_end_idx,\n",
    "                              test_start_idx, test_end_idx])\n",
    "\n",
    "        dates = X.reset_index()[['Dates']]\n",
    "        for train_start, train_end, test_start, test_end in split_idx:\n",
    "            train_idx = dates[(dates.Dates > days[train_start])\n",
    "                              & (dates.Dates <= days[train_end])].index\n",
    "            test_idx = dates[(dates.Dates > days[test_start])\n",
    "                             & (dates.Dates <= days[test_end])].index\n",
    "            if self.shuffle:\n",
    "                np.random.shuffle(list(train_idx))\n",
    "            yield train_idx, test_idx\n",
    "\n",
    "    def get_n_splits(self, X, y, groups=None):\n",
    "        return self.n_splits"
   ]
  },
  {
   "cell_type": "code",
   "execution_count": 8,
   "id": "c27600ea",
   "metadata": {},
   "outputs": [],
   "source": [
    "# LINEAR REGRESSION MODELING\n",
    "\n",
    "# Cross Validation\n",
    "train_period_length = 30\n",
    "test_period_length = 7\n",
    "n_splits = int(2 * YEAR / test_period_length)\n",
    "lookahead = 1\n",
    "\n",
    "cv = MultipleTimeSeriesCV(n_splits=n_splits,\n",
    "                          test_period_length=test_period_length,\n",
    "                          lookahead=lookahead,\n",
    "                          train_period_length=train_period_length)"
   ]
  },
  {
   "cell_type": "code",
   "execution_count": 10,
   "id": "2969be2b",
   "metadata": {},
   "outputs": [
    {
     "name": "stdout",
     "output_type": "stream",
     "text": [
      "Ran out of data to make more train/test splits\n"
     ]
    }
   ],
   "source": [
    "# Train the model and make predictions\n",
    "target = f'target_{lookahead}d'\n",
    "lr_predictions, lr_scores = [], []\n",
    "lr = LinearRegression()\n",
    "\n",
    "try:\n",
    "    for i, (train_idx, test_idx) in enumerate(cv.split(X), 1):\n",
    "        i += 1\n",
    "       \n",
    "        X_train, y_train, = X.iloc[train_idx], y[target].iloc[train_idx]\n",
    "        X_test, y_test = X.iloc[test_idx], y[target].iloc[test_idx]\n",
    "\n",
    "\n",
    "        lr.fit(X=X_train, y=y_train)\n",
    "        y_pred = lr.predict(X_test)\n",
    "\n",
    "        preds = y_test.to_frame('actuals').assign(predicted=y_pred)\n",
    "        preds_by_day = preds.groupby(level='Dates')\n",
    "        scores = pd.concat([preds_by_day.apply(lambda x: spearmanr(x.predicted,\n",
    "                                                                   x.actuals)[0] * 100)\n",
    "                            .to_frame('ic'),\n",
    "                            preds_by_day.apply(lambda x: np.sqrt(mean_squared_error(y_pred=x.predicted,\n",
    "                                                                                    y_true=x.actuals)))\n",
    "                            .to_frame('rmse')], axis=1)\n",
    "\n",
    "        lr_scores.append(scores)\n",
    "        lr_predictions.append(preds)\n",
    "\n",
    "\n",
    "except IndexError:\n",
    "    print('Ran out of data to make more train/test splits')\n",
    "\n",
    "\n",
    "lr_scores = pd.concat(lr_scores)\n",
    "lr_predictions = pd.concat(lr_predictions)"
   ]
  },
  {
   "cell_type": "code",
   "execution_count": 11,
   "id": "e6d68acd",
   "metadata": {},
   "outputs": [],
   "source": [
    "# Save results\n",
    "lr_scores.to_hdf(f'{model_dataDir}lr_model_scores.h5', 'lr/scores')\n",
    "lr_predictions.to_hdf(f'{model_dataDir}lr_model_predictions.h5', 'lr/predictions')\n",
    "# Re-load results\n",
    "lr_scores = pd.read_hdf(f'{model_dataDir}lr_model_scores.h5', 'lr/scores')\n",
    "lr_predictions = pd.read_hdf(f'{model_dataDir}lr_model_predictions.h5', 'lr/predictions')"
   ]
  },
  {
   "cell_type": "code",
   "execution_count": 12,
   "id": "1e126b05",
   "metadata": {},
   "outputs": [
    {
     "name": "stdout",
     "output_type": "stream",
     "text": [
      "Information Coefficient (overall): 4.355% (p-value: 0.0000%)\n"
     ]
    }
   ],
   "source": [
    "# Evaluation\n",
    "lr_r, lr_p = spearmanr(lr_predictions.actuals, lr_predictions.predicted)\n",
    "print(f'Information Coefficient (overall): {lr_r:.3%} (p-value: {lr_p:.4%})')"
   ]
  },
  {
   "cell_type": "code",
   "execution_count": 13,
   "id": "c28cc282",
   "metadata": {},
   "outputs": [
    {
     "data": {
      "image/png": "[encoded data removed]",
      "text/plain": [
       "<Figure size 432x432 with 3 Axes>"
      ]
     },
     "metadata": {},
     "output_type": "display_data"
    }
   ],
   "source": [
    "plot_preds_scatter(lr_predictions)"
   ]
  },
  {
   "cell_type": "code",
   "execution_count": null,
   "id": "ada27cf5",
   "metadata": {},
   "outputs": [],
   "source": []
  }
 ],
 "metadata": {
  "kernelspec": {
   "display_name": "Python 3 (ipykernel)",
   "language": "python",
   "name": "python3"
  },
  "language_info": {
   "codemirror_mode": {
    "name": "ipython",
    "version": 3
   },
   "file_extension": ".py",
   "mimetype": "text/x-python",
   "name": "python",
   "nbconvert_exporter": "python",
   "pygments_lexer": "ipython3",
   "version": "3.7.11"
  }
 },
 "nbformat": 4,
 "nbformat_minor": 5
}
